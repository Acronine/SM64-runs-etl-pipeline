{
 "cells": [
  {
   "cell_type": "markdown",
   "id": "e16182d2",
   "metadata": {
    "papermill": {
     "duration": 0.011662,
     "end_time": "2023-09-25T22:27:26.870899",
     "exception": false,
     "start_time": "2023-09-25T22:27:26.859237",
     "status": "completed"
    },
    "tags": []
   },
   "source": [
    "# Super Mario 64 Speedruns - Data Collection\n",
    "\n",
    "This notebook catalogs the methodology used to obtain data for Super Mario 64 speedrun data from [speedrun.com](https://www.speedrun.com/sm64), and automatically update the corresponding [Kaggle dataset](https://www.kaggle.com/datasets/mcpenguin/super-mario-64-speedruns).\n",
    "\n",
    "Note that this notebook is easily configurable to obtain speedrun data for other games as well.\n",
    "\n",
    "## References\n",
    "\n",
    "I used [this notebook](https://www.kaggle.com/code/nnjjpp/updating-a-dataset-with-a-notebook?scriptVersionId=134546596) as a reference on how to update a dataset with a notebook.\n",
    "\n",
    "## Some of my other work\n",
    "\n",
    "### Notebooks\n",
    "\n",
    "- [Butterfly Image Classification](https://www.kaggle.com/code/mcpenguin/butterfly-classification-efficientnet-87)\n",
    "- [Palmer Penguin EDA](https://www.kaggle.com/code/mcpenguin/palmer-archipelago-antarctica-penguin-eda)\n",
    "- [Smoking and Drinking EDA + Classification](https://www.kaggle.com/code/mcpenguin/smoking-drinking-prediction-tfdf-71)\n",
    "- [World Happiness Data Cleaning + EDA](https://www.kaggle.com/code/mcpenguin/world-happiness-data-cleaning-eda)\n",
    "- [Precious Metals Stocks: EDA + Forecasting](https://www.kaggle.com/code/mcpenguin/precious-metals-stocks-eda-and-prediction)\n",
    "- [Red Wine Quality EDA + Prediction](https://www.kaggle.com/code/mcpenguin/red-wine-quality-prediction)\n",
    "- [Gaia Stellar Classification](https://www.kaggle.com/code/mcpenguin/gaia-stellar-classification-lightgbm-91-acc)\n",
    "\n",
    "### Datasets\n",
    "\n",
    "- [The Complete Rollercoasters Dataset](https://www.kaggle.com/datasets/mcpenguin/rollercoasters)\n",
    "- [Malaysian COVID-19 Data](https://www.kaggle.com/datasets/mcpenguin/malaysia-covid19)"
   ]
  },
  {
   "cell_type": "markdown",
   "id": "8f888432",
   "metadata": {
    "papermill": {
     "duration": 0.010672,
     "end_time": "2023-09-25T22:27:26.892911",
     "exception": false,
     "start_time": "2023-09-25T22:27:26.882239",
     "status": "completed"
    },
    "tags": []
   },
   "source": [
    "# Import Libraries\n",
    "\n",
    "We will be using the `srcomapi` Python library, which is a library for the Speedrun.com API."
   ]
  },
  {
   "cell_type": "code",
   "execution_count": 2,
   "id": "0472f063",
   "metadata": {
    "execution": {
     "iopub.execute_input": "2023-09-25T22:27:26.918535Z",
     "iopub.status.busy": "2023-09-25T22:27:26.917650Z",
     "iopub.status.idle": "2023-09-25T22:27:42.687777Z",
     "shell.execute_reply": "2023-09-25T22:27:42.686271Z"
    },
    "papermill": {
     "duration": 15.785917,
     "end_time": "2023-09-25T22:27:42.690453",
     "exception": false,
     "start_time": "2023-09-25T22:27:26.904536",
     "status": "completed"
    },
    "tags": []
   },
   "outputs": [
    {
     "name": "stdout",
     "output_type": "stream",
     "text": [
      "Requirement already satisfied: srcomapi in c:\\users\\owner\\appdata\\local\\programs\\python\\python311\\lib\\site-packages (0.3.3)\n",
      "Requirement already satisfied: requests in c:\\users\\owner\\appdata\\local\\programs\\python\\python311\\lib\\site-packages (from srcomapi) (2.31.0)\n",
      "Requirement already satisfied: charset-normalizer<4,>=2 in c:\\users\\owner\\appdata\\local\\programs\\python\\python311\\lib\\site-packages (from requests->srcomapi) (3.2.0)\n",
      "Requirement already satisfied: idna<4,>=2.5 in c:\\users\\owner\\appdata\\local\\programs\\python\\python311\\lib\\site-packages (from requests->srcomapi) (3.4)\n",
      "Requirement already satisfied: urllib3<3,>=1.21.1 in c:\\users\\owner\\appdata\\local\\programs\\python\\python311\\lib\\site-packages (from requests->srcomapi) (2.0.4)\n",
      "Requirement already satisfied: certifi>=2017.4.17 in c:\\users\\owner\\appdata\\local\\programs\\python\\python311\\lib\\site-packages (from requests->srcomapi) (2023.7.22)\n"
     ]
    }
   ],
   "source": [
    "!pip install srcomapi"
   ]
  },
  {
   "cell_type": "code",
   "execution_count": 3,
   "id": "1eff190b",
   "metadata": {
    "_cell_guid": "b1076dfc-b9ad-4769-8c92-a6c4dae69d19",
    "_uuid": "8f2839f25d086af736a60e9eeb907d3b93b6e0e5",
    "execution": {
     "iopub.execute_input": "2023-09-25T22:27:42.717140Z",
     "iopub.status.busy": "2023-09-25T22:27:42.716163Z",
     "iopub.status.idle": "2023-09-25T22:27:42.847160Z",
     "shell.execute_reply": "2023-09-25T22:27:42.845826Z"
    },
    "papermill": {
     "duration": 0.147144,
     "end_time": "2023-09-25T22:27:42.849855",
     "exception": false,
     "start_time": "2023-09-25T22:27:42.702711",
     "status": "completed"
    },
    "tags": []
   },
   "outputs": [
    {
     "ename": "ModuleNotFoundError",
     "evalue": "No module named 'kaggle_secrets'",
     "output_type": "error",
     "traceback": [
      "\u001b[1;31m---------------------------------------------------------------------------\u001b[0m",
      "\u001b[1;31mModuleNotFoundError\u001b[0m                       Traceback (most recent call last)",
      "\u001b[1;32mc:\\Users\\Owner\\Documents\\Projects\\application\\SM64 Runs\\__notebook__.ipynb Cell 4\u001b[0m line \u001b[0;36m1\n\u001b[1;32m----> <a href='vscode-notebook-cell:/c%3A/Users/Owner/Documents/Projects/application/SM64%20Runs/__notebook__.ipynb#W3sZmlsZQ%3D%3D?line=0'>1</a>\u001b[0m \u001b[39mfrom\u001b[39;00m \u001b[39mkaggle_secrets\u001b[39;00m \u001b[39mimport\u001b[39;00m UserSecretsClient\n\u001b[0;32m      <a href='vscode-notebook-cell:/c%3A/Users/Owner/Documents/Projects/application/SM64%20Runs/__notebook__.ipynb#W3sZmlsZQ%3D%3D?line=2'>3</a>\u001b[0m \u001b[39mimport\u001b[39;00m \u001b[39mnumpy\u001b[39;00m \u001b[39mas\u001b[39;00m \u001b[39mnp\u001b[39;00m \u001b[39m# linear algebra\u001b[39;00m\n\u001b[0;32m      <a href='vscode-notebook-cell:/c%3A/Users/Owner/Documents/Projects/application/SM64%20Runs/__notebook__.ipynb#W3sZmlsZQ%3D%3D?line=3'>4</a>\u001b[0m \u001b[39mimport\u001b[39;00m \u001b[39mpandas\u001b[39;00m \u001b[39mas\u001b[39;00m \u001b[39mpd\u001b[39;00m \u001b[39m# data processing, CSV file I/O (e.g. pd.read_csv)\u001b[39;00m\n",
      "\u001b[1;31mModuleNotFoundError\u001b[0m: No module named 'kaggle_secrets'"
     ]
    }
   ],
   "source": [
    "from kaggle_secrets import UserSecretsClient\n",
    "\n",
    "import numpy as np # linear algebra\n",
    "import pandas as pd # data processing, CSV file I/O (e.g. pd.read_csv)\n",
    "import os\n",
    "import requests\n",
    "import json\n",
    "\n",
    "import srcomapi\n",
    "import srcomapi.datatypes as srdatatypes\n",
    "\n",
    "from tqdm.autonotebook import tqdm"
   ]
  },
  {
   "cell_type": "markdown",
   "id": "e280d6c2",
   "metadata": {
    "papermill": {
     "duration": 0.011953,
     "end_time": "2023-09-25T22:27:42.875521",
     "exception": false,
     "start_time": "2023-09-25T22:27:42.863568",
     "status": "completed"
    },
    "tags": []
   },
   "source": [
    "# Process Kaggle API Key\n",
    "\n",
    "To change/add user secrets, in the notebook editor go to `Add-ons -> Secrets`."
   ]
  },
  {
   "cell_type": "code",
   "execution_count": 4,
   "id": "7087c2a9",
   "metadata": {
    "execution": {
     "iopub.execute_input": "2023-09-25T22:27:42.901786Z",
     "iopub.status.busy": "2023-09-25T22:27:42.901309Z",
     "iopub.status.idle": "2023-09-25T22:27:44.234826Z",
     "shell.execute_reply": "2023-09-25T22:27:44.232880Z"
    },
    "papermill": {
     "duration": 1.35101,
     "end_time": "2023-09-25T22:27:44.238957",
     "exception": false,
     "start_time": "2023-09-25T22:27:42.887947",
     "status": "completed"
    },
    "tags": []
   },
   "outputs": [
    {
     "ename": "NameError",
     "evalue": "name 'os' is not defined",
     "output_type": "error",
     "traceback": [
      "\u001b[1;31m---------------------------------------------------------------------------\u001b[0m",
      "\u001b[1;31mNameError\u001b[0m                                 Traceback (most recent call last)",
      "\u001b[1;32mc:\\Users\\Owner\\Documents\\Projects\\application\\SM64 Runs\\__notebook__.ipynb Cell 6\u001b[0m line \u001b[0;36m1\n\u001b[1;32m----> <a href='vscode-notebook-cell:/c%3A/Users/Owner/Documents/Projects/application/SM64%20Runs/__notebook__.ipynb#W5sZmlsZQ%3D%3D?line=0'>1</a>\u001b[0m \u001b[39mif\u001b[39;00m os\u001b[39m.\u001b[39mpath\u001b[39m.\u001b[39mexists(\u001b[39m'\u001b[39m\u001b[39m/root/.kaggle/\u001b[39m\u001b[39m'\u001b[39m):\n\u001b[0;32m      <a href='vscode-notebook-cell:/c%3A/Users/Owner/Documents/Projects/application/SM64%20Runs/__notebook__.ipynb#W5sZmlsZQ%3D%3D?line=1'>2</a>\u001b[0m     \u001b[39mpass\u001b[39;00m\n\u001b[0;32m      <a href='vscode-notebook-cell:/c%3A/Users/Owner/Documents/Projects/application/SM64%20Runs/__notebook__.ipynb#W5sZmlsZQ%3D%3D?line=2'>3</a>\u001b[0m \u001b[39melse\u001b[39;00m:\n",
      "\u001b[1;31mNameError\u001b[0m: name 'os' is not defined"
     ]
    }
   ],
   "source": [
    "if os.path.exists('/root/.kaggle/'):\n",
    "    pass\n",
    "else:\n",
    "    os.mkdir('/root/.kaggle/')\n",
    "kaggle_API_key = UserSecretsClient().get_secret(\"KAGGLE_API_KEY\")\n",
    "\n",
    "with open('/root/.kaggle/kaggle.json', 'w') as fid:\n",
    "    fid.writelines(f'{{\"username\":\"mcpenguin\",\"key\":\"{kaggle_API_key}\"}}')\n",
    "\n",
    "!chmod 600 /root/.kaggle/kaggle.json"
   ]
  },
  {
   "cell_type": "markdown",
   "id": "f6c5beed",
   "metadata": {
    "papermill": {
     "duration": 0.011438,
     "end_time": "2023-09-25T22:27:44.263213",
     "exception": false,
     "start_time": "2023-09-25T22:27:44.251775",
     "status": "completed"
    },
    "tags": []
   },
   "source": [
    "# Obtain Data"
   ]
  },
  {
   "cell_type": "markdown",
   "id": "212cc3a3",
   "metadata": {
    "papermill": {
     "duration": 0.012381,
     "end_time": "2023-09-25T22:27:44.287835",
     "exception": false,
     "start_time": "2023-09-25T22:27:44.275454",
     "status": "completed"
    },
    "tags": []
   },
   "source": [
    "## Initialize Speedrun.com API Library\n",
    "\n",
    "We first initialize the Speedrun.com API:"
   ]
  },
  {
   "cell_type": "code",
   "execution_count": null,
   "id": "8c4aca5e",
   "metadata": {
    "execution": {
     "iopub.execute_input": "2023-09-25T22:27:44.315076Z",
     "iopub.status.busy": "2023-09-25T22:27:44.314018Z",
     "iopub.status.idle": "2023-09-25T22:27:44.321575Z",
     "shell.execute_reply": "2023-09-25T22:27:44.320157Z"
    },
    "papermill": {
     "duration": 0.024639,
     "end_time": "2023-09-25T22:27:44.324621",
     "exception": false,
     "start_time": "2023-09-25T22:27:44.299982",
     "status": "completed"
    },
    "tags": []
   },
   "outputs": [],
   "source": [
    "SPEEDRUN_API_LINK = \"https://www.speedrun.com/api/v1\"\n",
    "\n",
    "api = srcomapi.SpeedrunCom();\n",
    "# api.debug = 1"
   ]
  },
  {
   "cell_type": "markdown",
   "id": "44c1affa",
   "metadata": {
    "papermill": {
     "duration": 0.011579,
     "end_time": "2023-09-25T22:27:44.349058",
     "exception": false,
     "start_time": "2023-09-25T22:27:44.337479",
     "status": "completed"
    },
    "tags": []
   },
   "source": [
    "## Get Game Data\n",
    "\n",
    "We can then get the data for `Minecraft: Java Edition`. This notebook is configured in a way so that it should be easily adaptable to get data for other games from Speedrun.com as well."
   ]
  },
  {
   "cell_type": "code",
   "execution_count": null,
   "id": "c62d1fc6",
   "metadata": {
    "execution": {
     "iopub.execute_input": "2023-09-25T22:27:44.375102Z",
     "iopub.status.busy": "2023-09-25T22:27:44.374686Z",
     "iopub.status.idle": "2023-09-25T22:27:45.895248Z",
     "shell.execute_reply": "2023-09-25T22:27:45.894041Z"
    },
    "papermill": {
     "duration": 1.537305,
     "end_time": "2023-09-25T22:27:45.898217",
     "exception": false,
     "start_time": "2023-09-25T22:27:44.360912",
     "status": "completed"
    },
    "tags": []
   },
   "outputs": [],
   "source": [
    "# search for game\n",
    "game_name = \"Super Mario 64\"\n",
    "\n",
    "game_search = api.search(srcomapi.datatypes.Game, {\"name\": game_name})\n",
    "game = game_search[0]"
   ]
  },
  {
   "cell_type": "markdown",
   "id": "bbcb50a4",
   "metadata": {
    "papermill": {
     "duration": 0.011885,
     "end_time": "2023-09-25T22:27:45.922207",
     "exception": false,
     "start_time": "2023-09-25T22:27:45.910322",
     "status": "completed"
    },
    "tags": []
   },
   "source": [
    "For reference, let's see what the game ID is:"
   ]
  },
  {
   "cell_type": "code",
   "execution_count": null,
   "id": "b28a8a4b",
   "metadata": {
    "execution": {
     "iopub.execute_input": "2023-09-25T22:27:45.947964Z",
     "iopub.status.busy": "2023-09-25T22:27:45.946852Z",
     "iopub.status.idle": "2023-09-25T22:27:45.955556Z",
     "shell.execute_reply": "2023-09-25T22:27:45.954423Z"
    },
    "papermill": {
     "duration": 0.024348,
     "end_time": "2023-09-25T22:27:45.958167",
     "exception": false,
     "start_time": "2023-09-25T22:27:45.933819",
     "status": "completed"
    },
    "tags": []
   },
   "outputs": [
    {
     "data": {
      "text/plain": [
       "'o1y9wo6q'"
      ]
     },
     "execution_count": 6,
     "metadata": {},
     "output_type": "execute_result"
    }
   ],
   "source": [
    "game.id"
   ]
  },
  {
   "cell_type": "markdown",
   "id": "5f3c0379",
   "metadata": {
    "papermill": {
     "duration": 0.011845,
     "end_time": "2023-09-25T22:27:45.982026",
     "exception": false,
     "start_time": "2023-09-25T22:27:45.970181",
     "status": "completed"
    },
    "tags": []
   },
   "source": [
    "## Get Game-Specific \"Variables\"\n",
    "\n",
    "To process the game data, we will need to get the variables for Minecraft. To do this, we will use the following `get_variables` function."
   ]
  },
  {
   "cell_type": "code",
   "execution_count": null,
   "id": "c7f03ce3",
   "metadata": {
    "execution": {
     "iopub.execute_input": "2023-09-25T22:27:46.008295Z",
     "iopub.status.busy": "2023-09-25T22:27:46.007421Z",
     "iopub.status.idle": "2023-09-25T22:27:46.194200Z",
     "shell.execute_reply": "2023-09-25T22:27:46.193068Z"
    },
    "papermill": {
     "duration": 0.203198,
     "end_time": "2023-09-25T22:27:46.197050",
     "exception": false,
     "start_time": "2023-09-25T22:27:45.993852",
     "status": "completed"
    },
    "tags": []
   },
   "outputs": [],
   "source": [
    "def get_variables(game):\n",
    "    \n",
    "    variables_response = api.get(f\"games/{game.id}/variables\")\n",
    "    \n",
    "    # variable_id_to_name maps variable ids to the names of the variables\n",
    "    # and is of type {[variable_id]: [name]}\n",
    "    variable_id_to_name = {}\n",
    "    # variable_choice_id_to_name maps variable choice ids to the names of the variable choices\n",
    "    # and is of type { [variable_id]: {[variable_choice_id]: [name]} }\n",
    "    variable_choice_id_to_name = {}\n",
    "    \n",
    "    for variable_obj in variables_response:\n",
    "        variable_id_to_name[variable_obj[\"id\"]] = variable_obj[\"name\"]\n",
    "        var_id = variable_obj[\"id\"]\n",
    "        variable_choice_id_to_name[var_id] = {}\n",
    "        \n",
    "        values_response = variable_obj[\"values\"][\"values\"]\n",
    "        for value_id, value_obj in values_response.items():\n",
    "            variable_choice_id_to_name[var_id][value_id] = value_obj[\"label\"]\n",
    "    \n",
    "    return variable_id_to_name, variable_choice_id_to_name\n",
    "\n",
    "variable_id_to_name_dict, variable_choice_id_to_name_dict = get_variables(game)"
   ]
  },
  {
   "cell_type": "markdown",
   "id": "92c6129a",
   "metadata": {
    "papermill": {
     "duration": 0.011893,
     "end_time": "2023-09-25T22:27:46.220826",
     "exception": false,
     "start_time": "2023-09-25T22:27:46.208933",
     "status": "completed"
    },
    "tags": []
   },
   "source": [
    "For reference, let's see what each of these dictionaries look like:"
   ]
  },
  {
   "cell_type": "code",
   "execution_count": null,
   "id": "9818412e",
   "metadata": {
    "execution": {
     "iopub.execute_input": "2023-09-25T22:27:46.247888Z",
     "iopub.status.busy": "2023-09-25T22:27:46.246049Z",
     "iopub.status.idle": "2023-09-25T22:27:46.255069Z",
     "shell.execute_reply": "2023-09-25T22:27:46.253918Z"
    },
    "papermill": {
     "duration": 0.02494,
     "end_time": "2023-09-25T22:27:46.257798",
     "exception": false,
     "start_time": "2023-09-25T22:27:46.232858",
     "status": "completed"
    },
    "tags": []
   },
   "outputs": [
    {
     "data": {
      "text/plain": [
       "{'e8m7em86': 'Platform', '2lgy07lp': 'Codes', 'kn04ewol': 'Verified'}"
      ]
     },
     "execution_count": 8,
     "metadata": {},
     "output_type": "execute_result"
    }
   ],
   "source": [
    "variable_id_to_name_dict"
   ]
  },
  {
   "cell_type": "code",
   "execution_count": null,
   "id": "08e4297e",
   "metadata": {
    "execution": {
     "iopub.execute_input": "2023-09-25T22:27:46.284282Z",
     "iopub.status.busy": "2023-09-25T22:27:46.283853Z",
     "iopub.status.idle": "2023-09-25T22:27:46.290920Z",
     "shell.execute_reply": "2023-09-25T22:27:46.290085Z"
    },
    "papermill": {
     "duration": 0.022596,
     "end_time": "2023-09-25T22:27:46.293076",
     "exception": false,
     "start_time": "2023-09-25T22:27:46.270480",
     "status": "completed"
    },
    "tags": []
   },
   "outputs": [
    {
     "data": {
      "text/plain": [
       "{'e8m7em86': {'9qj7z0oq': 'N64', 'jq6540ol': 'VC', '5lmoxk01': 'EMU'},\n",
       " '2lgy07lp': {'5lmoovm1': 'No', 'jq655njl': 'Yes'},\n",
       " 'kn04ewol': {'5q8e86rq': 'Yes', '4qyxop3l': 'No'}}"
      ]
     },
     "execution_count": 9,
     "metadata": {},
     "output_type": "execute_result"
    }
   ],
   "source": [
    "variable_choice_id_to_name_dict"
   ]
  },
  {
   "cell_type": "markdown",
   "id": "ae5031b7",
   "metadata": {
    "papermill": {
     "duration": 0.01221,
     "end_time": "2023-09-25T22:27:46.317427",
     "exception": false,
     "start_time": "2023-09-25T22:27:46.305217",
     "status": "completed"
    },
    "tags": []
   },
   "source": [
    "## Get Raw Data\n",
    "\n",
    "We now get the raw data from the API and store them in a dictionary:"
   ]
  },
  {
   "cell_type": "code",
   "execution_count": null,
   "id": "1c8f5cc8",
   "metadata": {
    "execution": {
     "iopub.execute_input": "2023-09-25T22:27:46.344754Z",
     "iopub.status.busy": "2023-09-25T22:27:46.343888Z",
     "iopub.status.idle": "2023-09-25T22:28:37.497236Z",
     "shell.execute_reply": "2023-09-25T22:28:37.495969Z"
    },
    "papermill": {
     "duration": 51.170012,
     "end_time": "2023-09-25T22:28:37.499823",
     "exception": false,
     "start_time": "2023-09-25T22:27:46.329811",
     "status": "completed"
    },
    "tags": []
   },
   "outputs": [
    {
     "data": {
      "application/vnd.jupyter.widget-view+json": {
       "model_id": "477fcf7d7ef843afb48a9cec7929abc9",
       "version_major": 2,
       "version_minor": 0
      },
      "text/plain": [
       "  0%|          | 0/5 [00:00<?, ?it/s]"
      ]
     },
     "metadata": {},
     "output_type": "display_data"
    }
   ],
   "source": [
    "# only consider star categories\n",
    "categories = [\"0 Star\", \"1 Star\", \"16 Star\", \"70 Star\", \"120 Star\"]\n",
    "\n",
    "# we need a limit, as the API might return a 504 error\n",
    "# if there is too much data (> 1k rows)\n",
    "# also for some reason the python API library kind of self-destructs for this function\n",
    "# so we just use the API directly instead :)\n",
    "def get_category_data(game, category, limit=500, level=None):\n",
    "    if level is None:\n",
    "        link = f\"{SPEEDRUN_API_LINK}/leaderboards/{game.id}/category/{category.id}?embed=variables,players&top={limit}\"\n",
    "    else:\n",
    "        link = f\"{SPEEDRUN_API_LINK}/leaderboards/{game.id}/level/{level.id}/{category.id}?embed=variables,players&top={limit}\"\n",
    "    response = requests.get(link)\n",
    "    result = response.json()[\"data\"]\n",
    "    return result\n",
    "    \n",
    "# {[category name]: [list of runs]}\n",
    "raw_runs = {}\n",
    "pbar = tqdm([category for category in game.categories if category.name in categories])\n",
    "\n",
    "for category in pbar:\n",
    "    category_name = category.name\n",
    "    pbar.set_postfix(category=category_name)\n",
    "    \n",
    "    if not category.name in raw_runs:\n",
    "        raw_runs[category.name] = {}\n",
    "\n",
    "    if category.type == 'per-level':\n",
    "        for level in game.levels:\n",
    "            raw_runs[category.name][level.name] = get_category_data(game, category, level)\n",
    "    else:\n",
    "        raw_runs[category.name] = get_category_data(game, category)"
   ]
  },
  {
   "cell_type": "markdown",
   "id": "a356dbc7",
   "metadata": {
    "papermill": {
     "duration": 0.012233,
     "end_time": "2023-09-25T22:28:37.524415",
     "exception": false,
     "start_time": "2023-09-25T22:28:37.512182",
     "status": "completed"
    },
    "tags": []
   },
   "source": [
    "## Helper Functions to Process Data\n",
    "\n",
    "We now define some helper functions we will use to process the raw runs data."
   ]
  },
  {
   "cell_type": "code",
   "execution_count": null,
   "id": "964d6489",
   "metadata": {
    "execution": {
     "iopub.execute_input": "2023-09-25T22:28:37.552086Z",
     "iopub.status.busy": "2023-09-25T22:28:37.551144Z",
     "iopub.status.idle": "2023-09-25T22:28:37.566369Z",
     "shell.execute_reply": "2023-09-25T22:28:37.565143Z"
    },
    "papermill": {
     "duration": 0.032278,
     "end_time": "2023-09-25T22:28:37.569012",
     "exception": false,
     "start_time": "2023-09-25T22:28:37.536734",
     "status": "completed"
    },
    "tags": []
   },
   "outputs": [],
   "source": [
    "# process run\n",
    "def process_run(run, player_data):\n",
    "    verified_key = \"kn04ewol\"\n",
    "    platform_key = \"e8m7em86\"\n",
    "    \n",
    "    # get player data\n",
    "    player_id = run[\"run\"][\"players\"][0].get(\"id\", None)\n",
    "    if player_id is not None:\n",
    "        raw_player_data = player_data[player_id]\n",
    "        player_name = raw_player_data[\"names\"][\"international\"]\n",
    "        location = raw_player_data[\"location\"]\n",
    "        if location is not None:\n",
    "            location = location[\"country\"][\"names\"][\"international\"]\n",
    "        player_country = location\n",
    "    else:\n",
    "        player_name = player_country = None\n",
    "    \n",
    "    result = {\n",
    "        # run id\n",
    "        \"id\": run[\"run\"][\"id\"],\n",
    "        # leaderboard place\n",
    "        \"place\": run[\"place\"],\n",
    "        # link to speedrun\n",
    "        \"speedrun_link\": run[\"run\"][\"weblink\"],\n",
    "        # submitted date\n",
    "        \"submitted_date\": run[\"run\"][\"submitted\"],\n",
    "        # primary time (seconds)\n",
    "        \"primary_time_seconds\": run[\"run\"][\"times\"][\"primary_t\"],\n",
    "        # real time (seconds)\n",
    "        \"real_time_seconds\": run[\"run\"][\"times\"][\"realtime_t\"],\n",
    "        # player id\n",
    "        \"player_id\": player_id,\n",
    "        # player name\n",
    "        \"player_name\": player_name,\n",
    "        # player country\n",
    "        \"player_country\": player_country,\n",
    "        # platform\n",
    "        \"platform\": variable_choice_id_to_name_dict[platform_key][run[\"run\"][\"values\"][platform_key]],\n",
    "        # verified\n",
    "        \"verified\": variable_choice_id_to_name_dict[verified_key][run[\"run\"][\"values\"][verified_key]],\n",
    "    }\n",
    "    return result\n",
    "\n",
    "# raw_runs_data = {[category]: [runs]}\n",
    "def process_raw_runs_data(raw_runs_data):\n",
    "    # cleaned_runs = {[category]: [runs]}\n",
    "    cleaned_runs_data = {}\n",
    "    \n",
    "    for category, category_obj in raw_runs_data.items():\n",
    "        cleaned_runs = []\n",
    "        raw_runs = category_obj[\"runs\"]\n",
    "        \n",
    "        player_data_list = category_obj[\"players\"][\"data\"]\n",
    "        player_data = {data.get(\"id\"): data for data in player_data_list}\n",
    "        \n",
    "        print(f\"Processing raw runs data for category {category}\")\n",
    "        pbar = tqdm(raw_runs)\n",
    "        for raw_run in pbar:\n",
    "            try:\n",
    "                cleaned_run = process_run(raw_run, player_data)\n",
    "                cleaned_runs.append(cleaned_run)\n",
    "            except Exception as e:\n",
    "                print(\"could not process run:\")\n",
    "                print(raw_run)\n",
    "                print('error:')\n",
    "                print(e)\n",
    "        cleaned_runs_data[category] = cleaned_runs\n",
    "    return cleaned_runs_data"
   ]
  },
  {
   "cell_type": "markdown",
   "id": "c991875a",
   "metadata": {
    "papermill": {
     "duration": 0.012122,
     "end_time": "2023-09-25T22:28:37.593533",
     "exception": false,
     "start_time": "2023-09-25T22:28:37.581411",
     "status": "completed"
    },
    "tags": []
   },
   "source": [
    "## Process Raw Runs Data\n",
    "\n",
    "We can now clean the raw runs data, so that we will be able to process it into a CSV."
   ]
  },
  {
   "cell_type": "code",
   "execution_count": null,
   "id": "c3d733f9",
   "metadata": {
    "execution": {
     "iopub.execute_input": "2023-09-25T22:28:37.621155Z",
     "iopub.status.busy": "2023-09-25T22:28:37.620381Z",
     "iopub.status.idle": "2023-09-25T22:28:37.751418Z",
     "shell.execute_reply": "2023-09-25T22:28:37.749889Z"
    },
    "papermill": {
     "duration": 0.15628,
     "end_time": "2023-09-25T22:28:37.762306",
     "exception": false,
     "start_time": "2023-09-25T22:28:37.606026",
     "status": "completed"
    },
    "tags": []
   },
   "outputs": [
    {
     "name": "stdout",
     "output_type": "stream",
     "text": [
      "Processing raw runs data for category 120 Star\n"
     ]
    },
    {
     "data": {
      "application/vnd.jupyter.widget-view+json": {
       "model_id": "3207d2993bc14989b018731904c371dd",
       "version_major": 2,
       "version_minor": 0
      },
      "text/plain": [
       "  0%|          | 0/500 [00:00<?, ?it/s]"
      ]
     },
     "metadata": {},
     "output_type": "display_data"
    },
    {
     "name": "stdout",
     "output_type": "stream",
     "text": [
      "Processing raw runs data for category 70 Star\n"
     ]
    },
    {
     "data": {
      "application/vnd.jupyter.widget-view+json": {
       "model_id": "65013fee4db2494ea4233346b9c5e93c",
       "version_major": 2,
       "version_minor": 0
      },
      "text/plain": [
       "  0%|          | 0/501 [00:00<?, ?it/s]"
      ]
     },
     "metadata": {},
     "output_type": "display_data"
    },
    {
     "name": "stdout",
     "output_type": "stream",
     "text": [
      "Processing raw runs data for category 16 Star\n"
     ]
    },
    {
     "data": {
      "application/vnd.jupyter.widget-view+json": {
       "model_id": "6c2e90a922e641c4961c9c47481d0fdb",
       "version_major": 2,
       "version_minor": 0
      },
      "text/plain": [
       "  0%|          | 0/502 [00:00<?, ?it/s]"
      ]
     },
     "metadata": {},
     "output_type": "display_data"
    },
    {
     "name": "stdout",
     "output_type": "stream",
     "text": [
      "Processing raw runs data for category 1 Star\n"
     ]
    },
    {
     "data": {
      "application/vnd.jupyter.widget-view+json": {
       "model_id": "5e026dc57bb34d0eb138ed6a1f095051",
       "version_major": 2,
       "version_minor": 0
      },
      "text/plain": [
       "  0%|          | 0/500 [00:00<?, ?it/s]"
      ]
     },
     "metadata": {},
     "output_type": "display_data"
    },
    {
     "name": "stdout",
     "output_type": "stream",
     "text": [
      "Processing raw runs data for category 0 Star\n"
     ]
    },
    {
     "data": {
      "application/vnd.jupyter.widget-view+json": {
       "model_id": "9cfd9feaebbc42278a99029b5c373ae4",
       "version_major": 2,
       "version_minor": 0
      },
      "text/plain": [
       "  0%|          | 0/255 [00:00<?, ?it/s]"
      ]
     },
     "metadata": {},
     "output_type": "display_data"
    }
   ],
   "source": [
    "cleaned_runs_data = process_raw_runs_data(raw_runs)"
   ]
  },
  {
   "cell_type": "markdown",
   "id": "62d45d60",
   "metadata": {
    "papermill": {
     "duration": 0.013683,
     "end_time": "2023-09-25T22:28:37.790496",
     "exception": false,
     "start_time": "2023-09-25T22:28:37.776813",
     "status": "completed"
    },
    "tags": []
   },
   "source": [
    "# Convert Data into DataFrames"
   ]
  },
  {
   "cell_type": "markdown",
   "id": "159137d8",
   "metadata": {
    "papermill": {
     "duration": 0.013389,
     "end_time": "2023-09-25T22:28:37.817826",
     "exception": false,
     "start_time": "2023-09-25T22:28:37.804437",
     "status": "completed"
    },
    "tags": []
   },
   "source": [
    "We can now convert our cleaned runs data into data-frames for exporting/upload."
   ]
  },
  {
   "cell_type": "code",
   "execution_count": null,
   "id": "f000b1f5",
   "metadata": {
    "execution": {
     "iopub.execute_input": "2023-09-25T22:28:37.847337Z",
     "iopub.status.busy": "2023-09-25T22:28:37.846906Z",
     "iopub.status.idle": "2023-09-25T22:28:37.877246Z",
     "shell.execute_reply": "2023-09-25T22:28:37.875911Z"
    },
    "papermill": {
     "duration": 0.048641,
     "end_time": "2023-09-25T22:28:37.880217",
     "exception": false,
     "start_time": "2023-09-25T22:28:37.831576",
     "status": "completed"
    },
    "tags": []
   },
   "outputs": [],
   "source": [
    "# {category: df}\n",
    "dfs = {}\n",
    "\n",
    "for category, cleaned_runs in cleaned_runs_data.items():\n",
    "    dfs[category] = pd.DataFrame.from_records(cleaned_runs)"
   ]
  },
  {
   "cell_type": "markdown",
   "id": "a1a32815",
   "metadata": {
    "papermill": {
     "duration": 0.013305,
     "end_time": "2023-09-25T22:28:37.907487",
     "exception": false,
     "start_time": "2023-09-25T22:28:37.894182",
     "status": "completed"
    },
    "tags": []
   },
   "source": [
    "We can see how these look like:"
   ]
  },
  {
   "cell_type": "code",
   "execution_count": null,
   "id": "a40bdbf3",
   "metadata": {
    "execution": {
     "iopub.execute_input": "2023-09-25T22:28:37.936954Z",
     "iopub.status.busy": "2023-09-25T22:28:37.936460Z",
     "iopub.status.idle": "2023-09-25T22:28:37.966198Z",
     "shell.execute_reply": "2023-09-25T22:28:37.964848Z"
    },
    "papermill": {
     "duration": 0.047761,
     "end_time": "2023-09-25T22:28:37.969077",
     "exception": false,
     "start_time": "2023-09-25T22:28:37.921316",
     "status": "completed"
    },
    "tags": []
   },
   "outputs": [
    {
     "data": {
      "text/html": [
       "<div>\n",
       "<style scoped>\n",
       "    .dataframe tbody tr th:only-of-type {\n",
       "        vertical-align: middle;\n",
       "    }\n",
       "\n",
       "    .dataframe tbody tr th {\n",
       "        vertical-align: top;\n",
       "    }\n",
       "\n",
       "    .dataframe thead th {\n",
       "        text-align: right;\n",
       "    }\n",
       "</style>\n",
       "<table border=\"1\" class=\"dataframe\">\n",
       "  <thead>\n",
       "    <tr style=\"text-align: right;\">\n",
       "      <th></th>\n",
       "      <th>id</th>\n",
       "      <th>place</th>\n",
       "      <th>speedrun_link</th>\n",
       "      <th>submitted_date</th>\n",
       "      <th>primary_time_seconds</th>\n",
       "      <th>real_time_seconds</th>\n",
       "      <th>player_id</th>\n",
       "      <th>player_name</th>\n",
       "      <th>player_country</th>\n",
       "      <th>platform</th>\n",
       "      <th>verified</th>\n",
       "    </tr>\n",
       "  </thead>\n",
       "  <tbody>\n",
       "    <tr>\n",
       "      <th>0</th>\n",
       "      <td>mel4g4qz</td>\n",
       "      <td>1</td>\n",
       "      <td>https://www.speedrun.com/sm64/run/mel4g4qz</td>\n",
       "      <td>2023-06-17T20:22:08Z</td>\n",
       "      <td>2801</td>\n",
       "      <td>2801</td>\n",
       "      <td>jn32931x</td>\n",
       "      <td>Suigi</td>\n",
       "      <td>Canada</td>\n",
       "      <td>N64</td>\n",
       "      <td>Yes</td>\n",
       "    </tr>\n",
       "    <tr>\n",
       "      <th>1</th>\n",
       "      <td>zx3x94ez</td>\n",
       "      <td>2</td>\n",
       "      <td>https://www.speedrun.com/sm64/run/zx3x94ez</td>\n",
       "      <td>2023-07-24T14:50:24Z</td>\n",
       "      <td>2806</td>\n",
       "      <td>2806</td>\n",
       "      <td>zxzk1q9x</td>\n",
       "      <td>ikori_o</td>\n",
       "      <td>Japan</td>\n",
       "      <td>N64</td>\n",
       "      <td>Yes</td>\n",
       "    </tr>\n",
       "    <tr>\n",
       "      <th>2</th>\n",
       "      <td>mk014j1z</td>\n",
       "      <td>3</td>\n",
       "      <td>https://www.speedrun.com/sm64/run/mk014j1z</td>\n",
       "      <td>2023-07-24T22:28:07Z</td>\n",
       "      <td>2810</td>\n",
       "      <td>2810</td>\n",
       "      <td>x353dr7j</td>\n",
       "      <td>Finnii602</td>\n",
       "      <td>Germany</td>\n",
       "      <td>VC</td>\n",
       "      <td>Yes</td>\n",
       "    </tr>\n",
       "    <tr>\n",
       "      <th>3</th>\n",
       "      <td>yj211d3m</td>\n",
       "      <td>4</td>\n",
       "      <td>https://www.speedrun.com/sm64/run/yj211d3m</td>\n",
       "      <td>2023-06-03T16:03:45Z</td>\n",
       "      <td>2814</td>\n",
       "      <td>2814</td>\n",
       "      <td>8wkzer38</td>\n",
       "      <td>Parsee02</td>\n",
       "      <td>Japan</td>\n",
       "      <td>N64</td>\n",
       "      <td>Yes</td>\n",
       "    </tr>\n",
       "    <tr>\n",
       "      <th>4</th>\n",
       "      <td>z1q2w59y</td>\n",
       "      <td>5</td>\n",
       "      <td>https://www.speedrun.com/sm64/run/z1q2w59y</td>\n",
       "      <td>2023-01-29T01:10:07Z</td>\n",
       "      <td>2816</td>\n",
       "      <td>2816</td>\n",
       "      <td>18v62qyx</td>\n",
       "      <td>Benji64</td>\n",
       "      <td>Austria</td>\n",
       "      <td>N64</td>\n",
       "      <td>Yes</td>\n",
       "    </tr>\n",
       "  </tbody>\n",
       "</table>\n",
       "</div>"
      ],
      "text/plain": [
       "         id  place                               speedrun_link  \\\n",
       "0  mel4g4qz      1  https://www.speedrun.com/sm64/run/mel4g4qz   \n",
       "1  zx3x94ez      2  https://www.speedrun.com/sm64/run/zx3x94ez   \n",
       "2  mk014j1z      3  https://www.speedrun.com/sm64/run/mk014j1z   \n",
       "3  yj211d3m      4  https://www.speedrun.com/sm64/run/yj211d3m   \n",
       "4  z1q2w59y      5  https://www.speedrun.com/sm64/run/z1q2w59y   \n",
       "\n",
       "         submitted_date  primary_time_seconds  real_time_seconds player_id  \\\n",
       "0  2023-06-17T20:22:08Z                  2801               2801  jn32931x   \n",
       "1  2023-07-24T14:50:24Z                  2806               2806  zxzk1q9x   \n",
       "2  2023-07-24T22:28:07Z                  2810               2810  x353dr7j   \n",
       "3  2023-06-03T16:03:45Z                  2814               2814  8wkzer38   \n",
       "4  2023-01-29T01:10:07Z                  2816               2816  18v62qyx   \n",
       "\n",
       "  player_name player_country platform verified  \n",
       "0       Suigi         Canada      N64      Yes  \n",
       "1     ikori_o          Japan      N64      Yes  \n",
       "2   Finnii602        Germany       VC      Yes  \n",
       "3    Parsee02          Japan      N64      Yes  \n",
       "4     Benji64        Austria      N64      Yes  "
      ]
     },
     "execution_count": 14,
     "metadata": {},
     "output_type": "execute_result"
    }
   ],
   "source": [
    "dfs[\"70 Star\"].head()"
   ]
  },
  {
   "cell_type": "markdown",
   "id": "f9a7f079",
   "metadata": {
    "papermill": {
     "duration": 0.013893,
     "end_time": "2023-09-25T22:28:37.997611",
     "exception": false,
     "start_time": "2023-09-25T22:28:37.983718",
     "status": "completed"
    },
    "tags": []
   },
   "source": [
    "# Save DataFrames to Files\n",
    "\n",
    "We can then save our dataframes to files."
   ]
  },
  {
   "cell_type": "code",
   "execution_count": null,
   "id": "56c454b8",
   "metadata": {
    "execution": {
     "iopub.execute_input": "2023-09-25T22:28:38.028590Z",
     "iopub.status.busy": "2023-09-25T22:28:38.027759Z",
     "iopub.status.idle": "2023-09-25T22:28:38.078463Z",
     "shell.execute_reply": "2023-09-25T22:28:38.076985Z"
    },
    "papermill": {
     "duration": 0.069768,
     "end_time": "2023-09-25T22:28:38.081816",
     "exception": false,
     "start_time": "2023-09-25T22:28:38.012048",
     "status": "completed"
    },
    "tags": []
   },
   "outputs": [],
   "source": [
    "for category, df in dfs.items():\n",
    "    filename = f\"/kaggle/working/data_{category}.csv\"\n",
    "    df.to_csv(filename)"
   ]
  },
  {
   "cell_type": "markdown",
   "id": "98bd68a4",
   "metadata": {
    "papermill": {
     "duration": 0.014482,
     "end_time": "2023-09-25T22:28:38.110610",
     "exception": false,
     "start_time": "2023-09-25T22:28:38.096128",
     "status": "completed"
    },
    "tags": []
   },
   "source": [
    "# Re-Upload Files to Kaggle"
   ]
  },
  {
   "cell_type": "markdown",
   "id": "b46c1f1b",
   "metadata": {
    "papermill": {
     "duration": 0.013848,
     "end_time": "2023-09-25T22:28:38.138738",
     "exception": false,
     "start_time": "2023-09-25T22:28:38.124890",
     "status": "completed"
    },
    "tags": []
   },
   "source": [
    "## Define Metadata"
   ]
  },
  {
   "cell_type": "code",
   "execution_count": null,
   "id": "63bfe5ac",
   "metadata": {
    "execution": {
     "iopub.execute_input": "2023-09-25T22:28:38.169316Z",
     "iopub.status.busy": "2023-09-25T22:28:38.168842Z",
     "iopub.status.idle": "2023-09-25T22:28:38.174834Z",
     "shell.execute_reply": "2023-09-25T22:28:38.173443Z"
    },
    "papermill": {
     "duration": 0.024682,
     "end_time": "2023-09-25T22:28:38.177629",
     "exception": false,
     "start_time": "2023-09-25T22:28:38.152947",
     "status": "completed"
    },
    "tags": []
   },
   "outputs": [],
   "source": [
    "metadata = {\n",
    "    \"id\": \"mcpenguin/super-mario-64-speedruns\",\n",
    "    \"title\": \"New Update\"\n",
    "}"
   ]
  },
  {
   "cell_type": "code",
   "execution_count": null,
   "id": "afc5a6e8",
   "metadata": {
    "execution": {
     "iopub.execute_input": "2023-09-25T22:28:38.209151Z",
     "iopub.status.busy": "2023-09-25T22:28:38.208665Z",
     "iopub.status.idle": "2023-09-25T22:28:38.214915Z",
     "shell.execute_reply": "2023-09-25T22:28:38.213537Z"
    },
    "papermill": {
     "duration": 0.025303,
     "end_time": "2023-09-25T22:28:38.217858",
     "exception": false,
     "start_time": "2023-09-25T22:28:38.192555",
     "status": "completed"
    },
    "tags": []
   },
   "outputs": [],
   "source": [
    "with open('/kaggle/working/dataset-metadata.json', 'w') as json_fid:\n",
    "    json_fid.write(json.dumps(metadata))"
   ]
  },
  {
   "cell_type": "markdown",
   "id": "434d0dbe",
   "metadata": {
    "papermill": {
     "duration": 0.01379,
     "end_time": "2023-09-25T22:28:38.246038",
     "exception": false,
     "start_time": "2023-09-25T22:28:38.232248",
     "status": "completed"
    },
    "tags": []
   },
   "source": [
    "## Push New Metadata"
   ]
  },
  {
   "cell_type": "code",
   "execution_count": null,
   "id": "555d1ef1",
   "metadata": {
    "execution": {
     "iopub.execute_input": "2023-09-25T22:28:38.276415Z",
     "iopub.status.busy": "2023-09-25T22:28:38.275904Z",
     "iopub.status.idle": "2023-09-25T22:28:40.592982Z",
     "shell.execute_reply": "2023-09-25T22:28:40.591430Z"
    },
    "papermill": {
     "duration": 2.335726,
     "end_time": "2023-09-25T22:28:40.595928",
     "exception": false,
     "start_time": "2023-09-25T22:28:38.260202",
     "status": "completed"
    },
    "tags": []
   },
   "outputs": [
    {
     "name": "stdout",
     "output_type": "stream",
     "text": [
      "Downloading super-mario-64-speedruns.zip to /kaggle/working\r\n",
      "\r\n",
      "  0%|                                               | 0.00/95.8k [00:00<?, ?B/s]"
     ]
    },
    {
     "name": "stdout",
     "output_type": "stream",
     "text": [
      "\r\n",
      "100%|███████████████████████████████████████| 95.8k/95.8k [00:00<00:00, 483kB/s]\r\n",
      "\r\n",
      "100%|███████████████████████████████████████| 95.8k/95.8k [00:00<00:00, 482kB/s]\r\n"
     ]
    }
   ],
   "source": [
    "!kaggle datasets download mcpenguin/super-mario-64-speedruns"
   ]
  },
  {
   "cell_type": "code",
   "execution_count": null,
   "id": "13fad8dc",
   "metadata": {
    "execution": {
     "iopub.execute_input": "2023-09-25T22:28:40.628297Z",
     "iopub.status.busy": "2023-09-25T22:28:40.627194Z",
     "iopub.status.idle": "2023-09-25T22:28:40.633158Z",
     "shell.execute_reply": "2023-09-25T22:28:40.632285Z"
    },
    "papermill": {
     "duration": 0.024608,
     "end_time": "2023-09-25T22:28:40.635380",
     "exception": false,
     "start_time": "2023-09-25T22:28:40.610772",
     "status": "completed"
    },
    "tags": []
   },
   "outputs": [],
   "source": [
    "os.remove(\"/kaggle/working/super-mario-64-speedruns.zip\")"
   ]
  },
  {
   "cell_type": "code",
   "execution_count": 5,
   "id": "94356c1e",
   "metadata": {
    "execution": {
     "iopub.execute_input": "2023-09-05T15:32:05.177365Z",
     "iopub.status.busy": "2023-09-05T15:32:05.176914Z",
     "iopub.status.idle": "2023-09-05T15:32:20.437485Z",
     "shell.execute_reply": "2023-09-05T15:32:20.436308Z",
     "shell.execute_reply.started": "2023-09-05T15:32:05.177334Z"
    },
    "papermill": {
     "duration": null,
     "end_time": null,
     "exception": false,
     "start_time": "2023-09-25T22:28:40.650506",
     "status": "running"
    },
    "tags": []
   },
   "outputs": [
    {
     "name": "stderr",
     "output_type": "stream",
     "text": [
      "'kaggle' is not recognized as an internal or external command,\n",
      "operable program or batch file.\n"
     ]
    }
   ],
   "source": [
    "!kaggle datasets version -p /kaggle/working -m \"Updated data\""
   ]
  }
 ],
 "metadata": {
  "kernelspec": {
   "display_name": "Python 3",
   "language": "python",
   "name": "python3"
  },
  "language_info": {
   "codemirror_mode": {
    "name": "ipython",
    "version": 3
   },
   "file_extension": ".py",
   "mimetype": "text/x-python",
   "name": "python",
   "nbconvert_exporter": "python",
   "pygments_lexer": "ipython3",
   "version": "3.11.4"
  },
  "papermill": {
   "default_parameters": {},
   "duration": null,
   "end_time": null,
   "environment_variables": {},
   "exception": null,
   "input_path": "__notebook__.ipynb",
   "output_path": "__notebook__.ipynb",
   "parameters": {},
   "start_time": "2023-09-25T22:27:13.016133",
   "version": "2.4.0"
  }
 },
 "nbformat": 4,
 "nbformat_minor": 5
}
